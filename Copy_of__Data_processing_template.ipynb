{
  "nbformat": 4,
  "nbformat_minor": 0,
  "metadata": {
    "kernelspec": {
      "display_name": "Python 3",
      "language": "python",
      "name": "python3"
    },
    "language_info": {
      "codemirror_mode": {
        "name": "ipython",
        "version": 3
      },
      "file_extension": ".py",
      "mimetype": "text/x-python",
      "name": "python",
      "nbconvert_exporter": "python",
      "pygments_lexer": "ipython3",
      "version": "3.7.3"
    },
    "colab": {
      "name": "Copy of _Data_processing_template.ipynb",
      "provenance": [],
      "toc_visible": true,
      "include_colab_link": true
    }
  },
  "cells": [
    {
      "cell_type": "markdown",
      "metadata": {
        "id": "view-in-github",
        "colab_type": "text"
      },
      "source": [
        "<a href=\"https://colab.research.google.com/github/ojeidatasaved/Image-Processing-in-Python/blob/main/Copy_of__Data_processing_template.ipynb\" target=\"_parent\"><img src=\"https://colab.research.google.com/assets/colab-badge.svg\" alt=\"Open In Colab\"/></a>"
      ]
    },
    {
      "cell_type": "markdown",
      "metadata": {
        "id": "DhyA-reBC53V"
      },
      "source": [
        "# Data processing\n"
      ]
    },
    {
      "cell_type": "markdown",
      "metadata": {
        "id": "b9MT95VqC53e"
      },
      "source": [
        "### Step 1 --  Import libraries"
      ]
    },
    {
      "cell_type": "code",
      "metadata": {
        "id": "vco5JV-cC53f"
      },
      "source": [
        "import numpy as np\n",
        "import matplotlib.pyplot as plt\n",
        "import pandas as pd\n",
        "import os"
      ],
      "execution_count": null,
      "outputs": []
    },
    {
      "cell_type": "code",
      "metadata": {
        "scrolled": true,
        "colab": {
          "base_uri": "https://localhost:8080/",
          "height": 34
        },
        "id": "cJwIppaCC53g",
        "outputId": "7d871c27-b610-4246-cab1-108dd8abf5bf"
      },
      "source": [
        " os.getcwd()"
      ],
      "execution_count": null,
      "outputs": [
        {
          "output_type": "execute_result",
          "data": {
            "application/vnd.google.colaboratory.intrinsic+json": {
              "type": "string"
            },
            "text/plain": [
              "'/content'"
            ]
          },
          "metadata": {
            "tags": []
          },
          "execution_count": 8
        }
      ]
    },
    {
      "cell_type": "code",
      "metadata": {
        "id": "BmtT5-1YC53i"
      },
      "source": [
        "#os.chdir(r\"C:\\Users\\hp\\Desktop\\PYTHON and R Machine Learning Udemy\\Machine Learning A-Z (Codes and Datasets)\\Part 1 - Data Preprocessing\\Section 2 -------------------- Part 1 - Data Preprocessing --------------------\\Python\")"
      ],
      "execution_count": null,
      "outputs": []
    },
    {
      "cell_type": "markdown",
      "metadata": {
        "id": "NYzyyterC53i"
      },
      "source": [
        "### Step 2 -- Import Dataset "
      ]
    },
    {
      "cell_type": "code",
      "metadata": {
        "id": "W91OojOGC53i"
      },
      "source": [
        "data = pd.read_csv(\"Data.csv\")\n",
        "X = data.iloc[:, 0:2].values\n",
        "y =data.iloc[:, 3].values"
      ],
      "execution_count": null,
      "outputs": []
    },
    {
      "cell_type": "code",
      "metadata": {
        "colab": {
          "base_uri": "https://localhost:8080/"
        },
        "id": "lBAzbVnSC53j",
        "outputId": "329131f3-9f0b-443e-85c0-42c233589492"
      },
      "source": [
        "print(X)\n"
      ],
      "execution_count": null,
      "outputs": [
        {
          "output_type": "stream",
          "text": [
            "[['France' 44.0]\n",
            " ['Spain' 27.0]\n",
            " ['Germany' 30.0]\n",
            " ['Spain' 38.0]\n",
            " ['Germany' 40.0]\n",
            " ['France' 35.0]\n",
            " ['Spain' nan]\n",
            " ['France' 48.0]\n",
            " ['Germany' 50.0]\n",
            " ['France' 37.0]]\n"
          ],
          "name": "stdout"
        }
      ]
    },
    {
      "cell_type": "code",
      "metadata": {
        "colab": {
          "base_uri": "https://localhost:8080/"
        },
        "id": "rkWZtPgJC53j",
        "outputId": "01984473-dd83-4442-db4e-8bc6dfaa38ae"
      },
      "source": [
        "print(y)"
      ],
      "execution_count": null,
      "outputs": [
        {
          "output_type": "stream",
          "text": [
            "['No' 'Yes' 'No' 'No' 'Yes' 'Yes' 'No' 'Yes' 'No' 'Yes']\n"
          ],
          "name": "stdout"
        }
      ]
    },
    {
      "cell_type": "code",
      "metadata": {
        "scrolled": true,
        "colab": {
          "base_uri": "https://localhost:8080/"
        },
        "id": "SUiMEqg5C53k",
        "outputId": "44aa6750-b2ed-4b7d-b155-244643800db6"
      },
      "source": [
        "print(data)"
      ],
      "execution_count": null,
      "outputs": [
        {
          "output_type": "stream",
          "text": [
            "   Country   Age   Salary Purchased\n",
            "0   France  44.0  72000.0        No\n",
            "1    Spain  27.0  48000.0       Yes\n",
            "2  Germany  30.0  54000.0        No\n",
            "3    Spain  38.0  61000.0        No\n",
            "4  Germany  40.0      NaN       Yes\n",
            "5   France  35.0  58000.0       Yes\n",
            "6    Spain   NaN  52000.0        No\n",
            "7   France  48.0  79000.0       Yes\n",
            "8  Germany  50.0  83000.0        No\n",
            "9   France  37.0  67000.0       Yes\n"
          ],
          "name": "stdout"
        }
      ]
    },
    {
      "cell_type": "markdown",
      "metadata": {
        "id": "niPAg1ugC53k"
      },
      "source": [
        "###  Step 2 -- Taking care of missing data\n"
      ]
    },
    {
      "cell_type": "code",
      "metadata": {
        "id": "ITKYJbJ1C53l"
      },
      "source": [
        "# Replace using median \n",
        "mean = data[\"Salary\"].mean()\n",
        "data[\"Salary\"].fillna(mean, inplace=True)\n",
        "\n",
        "\n",
        "mean = data[\"Age\"].median()\n",
        "data[\"Age\"].fillna(mean, inplace=True)\n",
        "X = data.iloc[:, 0:3].values\n",
        "y =data.iloc[:, 3].values"
      ],
      "execution_count": null,
      "outputs": []
    },
    {
      "cell_type": "code",
      "metadata": {
        "scrolled": true,
        "colab": {
          "base_uri": "https://localhost:8080/"
        },
        "id": "ka5vbawmC53l",
        "outputId": "b750e475-e277-49b6-91d9-28abc7990045"
      },
      "source": [
        "print(data)"
      ],
      "execution_count": null,
      "outputs": [
        {
          "output_type": "stream",
          "text": [
            "   Country   Age        Salary Purchased\n",
            "0   France  44.0  72000.000000        No\n",
            "1    Spain  27.0  48000.000000       Yes\n",
            "2  Germany  30.0  54000.000000        No\n",
            "3    Spain  38.0  61000.000000        No\n",
            "4  Germany  40.0  63777.777778       Yes\n",
            "5   France  35.0  58000.000000       Yes\n",
            "6    Spain  38.0  52000.000000        No\n",
            "7   France  48.0  79000.000000       Yes\n",
            "8  Germany  50.0  83000.000000        No\n",
            "9   France  37.0  67000.000000       Yes\n"
          ],
          "name": "stdout"
        }
      ]
    },
    {
      "cell_type": "code",
      "metadata": {
        "scrolled": true,
        "colab": {
          "base_uri": "https://localhost:8080/"
        },
        "id": "dLnC-GsxC53q",
        "outputId": "253f94ba-0bae-423a-af2a-0586d6e57b87"
      },
      "source": [
        "data.dtypes"
      ],
      "execution_count": null,
      "outputs": [
        {
          "output_type": "execute_result",
          "data": {
            "text/plain": [
              "Country       object\n",
              "Age          float64\n",
              "Salary       float64\n",
              "Purchased     object\n",
              "dtype: object"
            ]
          },
          "metadata": {
            "tags": []
          },
          "execution_count": 16
        }
      ]
    },
    {
      "cell_type": "markdown",
      "metadata": {
        "id": "5RoLP31tC53q"
      },
      "source": [
        "###  Step3---- Encoding Categorical data"
      ]
    },
    {
      "cell_type": "code",
      "metadata": {
        "id": "bunxSp2iC53q"
      },
      "source": [
        "from sklearn.compose import ColumnTransformer\n",
        "from sklearn.preprocessing import OneHotEncoder"
      ],
      "execution_count": null,
      "outputs": []
    },
    {
      "cell_type": "markdown",
      "metadata": {
        "id": "KalGHkdeC53r"
      },
      "source": [
        "### Always encode the independent variable  as seen below"
      ]
    },
    {
      "cell_type": "code",
      "metadata": {
        "scrolled": true,
        "colab": {
          "base_uri": "https://localhost:8080/"
        },
        "id": "4UugBqzkC53r",
        "outputId": "0ffc0e74-8e51-4e2b-ee0b-c7f6bed8a726"
      },
      "source": [
        "ct = ColumnTransformer(transformers =[(\"encoder\",OneHotEncoder(),[0])], remainder =\"passthrough\")\n",
        "X = np.array(ct.fit_transform(X))\n",
        "print(X)"
      ],
      "execution_count": null,
      "outputs": [
        {
          "output_type": "stream",
          "text": [
            "[[0.0 1.0 0.0 0.0 44.0 72000.0]\n",
            " [1.0 0.0 0.0 1.0 27.0 48000.0]\n",
            " [1.0 0.0 1.0 0.0 30.0 54000.0]\n",
            " [1.0 0.0 0.0 1.0 38.0 61000.0]\n",
            " [1.0 0.0 1.0 0.0 40.0 63777.77777777778]\n",
            " [0.0 1.0 0.0 0.0 35.0 58000.0]\n",
            " [1.0 0.0 0.0 1.0 38.0 52000.0]\n",
            " [0.0 1.0 0.0 0.0 48.0 79000.0]\n",
            " [1.0 0.0 1.0 0.0 50.0 83000.0]\n",
            " [0.0 1.0 0.0 0.0 37.0 67000.0]]\n"
          ],
          "name": "stdout"
        }
      ]
    },
    {
      "cell_type": "markdown",
      "metadata": {
        "id": "anap1fWNC53r"
      },
      "source": [
        "### Encoding the dependent variable (Target class)"
      ]
    },
    {
      "cell_type": "code",
      "metadata": {
        "id": "QUIBuxy9C53s"
      },
      "source": [
        "from sklearn.preprocessing import LabelEncoder \n",
        "y = LabelEncoder().fit_transform(y)"
      ],
      "execution_count": null,
      "outputs": []
    },
    {
      "cell_type": "code",
      "metadata": {
        "colab": {
          "base_uri": "https://localhost:8080/"
        },
        "id": "b65kYZtXWD2n",
        "outputId": "5f8b739b-c9a0-4026-bd9d-666d73e93686"
      },
      "source": [
        "data."
      ],
      "execution_count": null,
      "outputs": [
        {
          "output_type": "execute_result",
          "data": {
            "text/plain": [
              "Country       object\n",
              "Age          float64\n",
              "Salary       float64\n",
              "Purchased     object\n",
              "dtype: object"
            ]
          },
          "metadata": {
            "tags": []
          },
          "execution_count": 38
        }
      ]
    },
    {
      "cell_type": "code",
      "metadata": {
        "scrolled": true,
        "colab": {
          "base_uri": "https://localhost:8080/"
        },
        "id": "K4mysiybC53s",
        "outputId": "d06a5128-aef8-45a1-bb8d-d7f430ef8d42"
      },
      "source": [
        "print(y)"
      ],
      "execution_count": null,
      "outputs": [
        {
          "output_type": "stream",
          "text": [
            "[0 1 0 0 1 1 0 1 0 1]\n"
          ],
          "name": "stdout"
        }
      ]
    },
    {
      "cell_type": "markdown",
      "metadata": {
        "id": "vxzll7yiC53s"
      },
      "source": [
        "### Step 4-- splitting the data into training and testing "
      ]
    },
    {
      "cell_type": "code",
      "metadata": {
        "id": "T8ZJzMZ2C53t"
      },
      "source": [
        "from sklearn.model_selection import train_test_split"
      ],
      "execution_count": null,
      "outputs": []
    },
    {
      "cell_type": "code",
      "metadata": {
        "id": "Zvv1HrY4DUoq"
      },
      "source": [
        "X_train,X_test,y_train,y_test = train_test_split(X,y, test_size = 0.2, random_state = 1)"
      ],
      "execution_count": null,
      "outputs": []
    },
    {
      "cell_type": "code",
      "metadata": {
        "colab": {
          "base_uri": "https://localhost:8080/"
        },
        "id": "wBDvK5RrFOyi",
        "outputId": "f59bb7cc-4ffd-460d-a3d6-2fa4885a9a2d"
      },
      "source": [
        "print(X_train)"
      ],
      "execution_count": null,
      "outputs": [
        {
          "output_type": "stream",
          "text": [
            "[[0.0 0.0 1.0 38.0 52000.0]\n",
            " [0.0 1.0 0.0 40.0 63777.77777777778]\n",
            " [1.0 0.0 0.0 44.0 72000.0]\n",
            " [0.0 0.0 1.0 38.0 61000.0]\n",
            " [0.0 0.0 1.0 27.0 48000.0]\n",
            " [1.0 0.0 0.0 48.0 79000.0]\n",
            " [0.0 1.0 0.0 50.0 83000.0]\n",
            " [1.0 0.0 0.0 35.0 58000.0]]\n"
          ],
          "name": "stdout"
        }
      ]
    },
    {
      "cell_type": "code",
      "metadata": {
        "colab": {
          "base_uri": "https://localhost:8080/"
        },
        "id": "AuuHHLJAFUKQ",
        "outputId": "b69d2304-9868-4ee5-a431-bc375493a119"
      },
      "source": [
        "print(X_test)"
      ],
      "execution_count": null,
      "outputs": [
        {
          "output_type": "stream",
          "text": [
            "[[0.0 1.0 0.0 30.0 54000.0]\n",
            " [1.0 0.0 0.0 37.0 67000.0]]\n"
          ],
          "name": "stdout"
        }
      ]
    },
    {
      "cell_type": "code",
      "metadata": {
        "colab": {
          "base_uri": "https://localhost:8080/"
        },
        "id": "uwm4CVDJFbUR",
        "outputId": "ff21efe5-96e9-48d6-c6c6-6fb12965864d"
      },
      "source": [
        "print(y_train)"
      ],
      "execution_count": null,
      "outputs": [
        {
          "output_type": "stream",
          "text": [
            "[0 1 0 0 1 1 0 1]\n"
          ],
          "name": "stdout"
        }
      ]
    },
    {
      "cell_type": "code",
      "metadata": {
        "colab": {
          "base_uri": "https://localhost:8080/"
        },
        "id": "ElRjt4nqFcV9",
        "outputId": "14645eea-dcf1-4607-f58d-aa2b547349c4"
      },
      "source": [
        "print(y_test)"
      ],
      "execution_count": null,
      "outputs": [
        {
          "output_type": "stream",
          "text": [
            "[0 1]\n"
          ],
          "name": "stdout"
        }
      ]
    },
    {
      "cell_type": "markdown",
      "metadata": {
        "id": "m0xdnh3tJWjH"
      },
      "source": [
        "### Step 5 - Feature Selection"
      ]
    },
    {
      "cell_type": "code",
      "metadata": {
        "id": "lfK1W7-LJamU"
      },
      "source": [
        "from sklearn.preprocessing import StandardScaler\r\n",
        "\r\n",
        "X_train[:,3:] = StandardScaler().fit_transform(X_train[:,3:])\r\n",
        "\r\n",
        "X_test[:,3:] = StandardScaler().fit_transform(X_test[:,3:])"
      ],
      "execution_count": null,
      "outputs": []
    },
    {
      "cell_type": "code",
      "metadata": {
        "colab": {
          "base_uri": "https://localhost:8080/"
        },
        "id": "FRJhmE3mVvJe",
        "outputId": "8f0c16fb-d5ca-4eb7-8ac1-8c98dd11b103"
      },
      "source": [
        "print(X_train)\r\n"
      ],
      "execution_count": null,
      "outputs": [
        {
          "output_type": "stream",
          "text": [
            "[[0.0 0.0 1.0 -0.28942984211696865 -1.0781259408412427]\n",
            " [0.0 1.0 0.0 0.0 -0.07013167641635401]\n",
            " [1.0 0.0 0.0 0.5788596842339373 0.6335624327104546]\n",
            " [0.0 0.0 1.0 -0.28942984211696865 -0.30786617274297895]\n",
            " [0.0 0.0 1.0 -1.8812939737602963 -1.4204636155515822]\n",
            " [1.0 0.0 0.0 1.1577193684678746 1.2326533634535488]\n",
            " [0.0 1.0 0.0 1.4471492105848434 1.5749910381638883]\n",
            " [1.0 0.0 0.0 -0.7235746052924217 -0.5646194287757336]]\n"
          ],
          "name": "stdout"
        }
      ]
    },
    {
      "cell_type": "code",
      "metadata": {
        "colab": {
          "base_uri": "https://localhost:8080/"
        },
        "id": "bKbp8Yo0V1XB",
        "outputId": "088c7ec6-6eea-4ea9-98a3-eb4da4e01a4f"
      },
      "source": [
        "print(X_test)"
      ],
      "execution_count": null,
      "outputs": [
        {
          "output_type": "stream",
          "text": [
            "[[0.0 1.0 0.0 -1.0 -1.0]\n",
            " [1.0 0.0 0.0 1.0 1.0]]\n"
          ],
          "name": "stdout"
        }
      ]
    }
  ]
}